{
  "nbformat": 4,
  "nbformat_minor": 0,
  "metadata": {
    "colab": {
      "provenance": []
    },
    "kernelspec": {
      "name": "python3",
      "display_name": "Python 3"
    },
    "language_info": {
      "name": "python"
    }
  },
  "cells": [
    {
      "cell_type": "code",
      "execution_count": null,
      "metadata": {
        "id": "Aq6GXvzQsFNk"
      },
      "outputs": [],
      "source": [
        "# Data Science Tools and Techniques\n",
        "\n",
        "## Introduction\n",
        "This notebook provides an overview of essential data science tools, languages, and basic operations. It serves as a practical introduction to working with Jupyter notebooks while demonstrating fundamental data science concepts.\n",
        "\n",
        "## Data Science Languages\n",
        "The most commonly used languages in data science include:\n",
        "- Python\n",
        "- R\n",
        "- SQL\n",
        "- Julia\n",
        "- Scala\n",
        "\n",
        "## Data Science Libraries\n",
        "Popular libraries for data science tasks:\n",
        "\n",
        "*Python Libraries:*\n",
        "- Pandas (data manipulation)\n",
        "- NumPy (numerical computing)\n",
        "- Scikit-learn (machine learning)\n",
        "- Matplotlib (visualization)\n",
        "- TensorFlow (deep learning)\n",
        "\n",
        "*R Libraries:*\n",
        "- ggplot2 (visualization)\n",
        "- dplyr (data manipulation)\n",
        "- caret (machine learning)\n",
        "- shiny (web applications)\n",
        "\n",
        "## Data Science Tools\n",
        "| Tool Name         | Primary Use Case               |\n",
        "|-------------------|--------------------------------|\n",
        "| Jupyter Notebooks | Interactive coding environment |\n",
        "| RStudio           | R development IDE              |\n",
        "| Git/GitHub        | Version control                |\n",
        "| Tableau           | Data visualization             |\n",
        "| Apache Spark      | Big data processing            |\n",
        "\n",
        "## Arithmetic Expression Examples\n",
        "Basic arithmetic operations are fundamental in data science for calculations and transformations. Below are examples of multiplication and addition.\n",
        "\n",
        "```python\n",
        "# Multiplication and addition\n",
        "result = (5 * 4) + 10\n",
        "print(result)  # Output: 30"
      ]
    },
    {
      "cell_type": "code",
      "source": [
        "# Convert minutes to hours\n",
        "minutes = 150\n",
        "hours = minutes / 60\n",
        "print(f\"{minutes} minutes equals {hours:.2f} hours\")  # Output: 150 minutes equals 2.50 hours"
      ],
      "metadata": {
        "colab": {
          "base_uri": "https://localhost:8080/"
        },
        "id": "LLiOkhA_v7sW",
        "outputId": "51a2c678-652f-431d-992f-e5cba5121690"
      },
      "execution_count": 1,
      "outputs": [
        {
          "output_type": "stream",
          "name": "stdout",
          "text": [
            "150 minutes equals 2.50 hours\n"
          ]
        }
      ]
    },
    {
      "cell_type": "markdown",
      "source": [
        "\n",
        "### How to Use This File:\n",
        "\n",
        "1. **In JupyterLite**:\n",
        "   - Create a new notebook\n",
        "   - Copy/paste the content above\n",
        "   - For code cells (Python sections), make sure to:\n",
        "     - Create a new code cell\n",
        "     - Paste only the Python code (without the ```python markers)\n",
        "     - Run the cell to show outputs\n",
        "\n",
        "2. **For GitHub Submission**:\n",
        "   - Save the notebook as `.ipynb` file\n",
        "   - Upload to a new public GitHub repository\n",
        "   - Include a screenshot showing:\n",
        "     - The entire first page\n",
        "     - At least one executed code cell with output visible\n",
        "\n",
        "3. **Formatting Tips**:\n",
        "   - Use `#` for main headers\n",
        "   - Use `##` for subheaders\n",
        "   - Use `-` or `*` for bullet points\n",
        "   - For tables, use the pipe `|` syntax shown\n",
        "   - Code cells should show both the code and output when run\n",
        "\n",
        "Would you like me to provide any specific part of this in more detail?"
      ],
      "metadata": {
        "id": "dr_ZjNa7wdSv"
      }
    }
  ]
}